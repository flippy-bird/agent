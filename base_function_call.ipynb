{
 "cells": [
  {
   "cell_type": "code",
   "execution_count": 2,
   "metadata": {},
   "outputs": [],
   "source": [
    "from openai import OpenAI\n",
    "import json\n",
    "import os"
   ]
  },
  {
   "cell_type": "code",
   "execution_count": 3,
   "metadata": {},
   "outputs": [],
   "source": [
    "## 定义大模型\n",
    "client = OpenAI(\n",
    "    api_key=os.environ[\"OPENAI_API_KEY\"],\n",
    "    base_url=os.environ[\"OPENAI_BASE_URL\"],\n",
    ")"
   ]
  },
  {
   "cell_type": "markdown",
   "metadata": {},
   "source": [
    "### 定义工具函数相关\n",
    "需要定义函数的说明，包括函数的名称，需要的参数，功能描述"
   ]
  },
  {
   "cell_type": "code",
   "execution_count": 4,
   "metadata": {},
   "outputs": [],
   "source": [
    "# 这里是为了测试，简单定义了两个功能函数\n",
    "\n",
    "def get_weather(city):\n",
    "    res = f\"现在{city}的天气是晴天，30°\"\n",
    "    return res\n",
    "\n",
    "def get_current_time():\n",
    "    res = \"现在的时间是2025年8月21日下午16：17\"\n",
    "    return res\n",
    "\n",
    "# 这里tool的格式参照openai工具调用文档，是固定格式\n",
    "tools = [{\n",
    "    \"type\":\"function\",\n",
    "    \"function\":{\n",
    "        \"name\":\"get_current_time\",\n",
    "        \"description\": \"获取当前的时间\"\n",
    "    }\n",
    "},{\n",
    "    \"type\":\"function\",\n",
    "    \"function\":{\n",
    "        \"name\":\"get_weather\",\n",
    "        \"description\": \"获取天气信息\",\n",
    "        \"parameters\":{\n",
    "            \"type\":\"object\",\n",
    "            \"properties\":{\n",
    "                \"city\":{\n",
    "                    \"type\":\"string\",\n",
    "                    \"description\":\"城市名称\"\n",
    "                }\n",
    "            },\n",
    "            \"required\":[\"city\"]\n",
    "        }\n",
    "    }\n",
    "}]"
   ]
  },
  {
   "cell_type": "code",
   "execution_count": 5,
   "metadata": {},
   "outputs": [],
   "source": [
    "# 方便后续的工具调用\n",
    "functions = {\n",
    "    \"get_weather\": get_weather,\n",
    "    \"get_current_time\": get_current_time,\n",
    "}"
   ]
  },
  {
   "cell_type": "markdown",
   "metadata": {},
   "source": [
    "### LLM调用\n",
    "发起一个大模型的流程"
   ]
  },
  {
   "cell_type": "code",
   "execution_count": 6,
   "metadata": {},
   "outputs": [],
   "source": [
    "system_prompt = \"你是一个有用的助手\"\n",
    "prompt = \"我想知道当前的具体时间和当前杭州的天气\"\n",
    "\n",
    "messages = [\n",
    "        {\"role\": \"system\", \"content\": system_prompt},\n",
    "        {\"role\": \"user\", \"content\": prompt},\n",
    "    ]\n",
    "res = client.chat.completions.create(\n",
    "    model = \"qwen-max\",\n",
    "    messages=messages,\n",
    "    tools=tools,\n",
    "    # parallel_tool_calls=True\n",
    ")\n",
    "\n",
    "tool_calls = res.choices[0].message.tool_calls"
   ]
  },
  {
   "cell_type": "markdown",
   "metadata": {},
   "source": [
    "### 判断\n",
    "判断大模型返回的内容中是否包含工具调用，如果包含工具调用，需要解析工具，然后手动进行工具调用，然后把工具调用的结果返回给大模型，以进行下一轮的询问迭代。"
   ]
  },
  {
   "cell_type": "code",
   "execution_count": 7,
   "metadata": {},
   "outputs": [
    {
     "name": "stdout",
     "output_type": "stream",
     "text": [
      "执行工具调用\n",
      "工具调用名称：get_current_time\n",
      "工具调用参数：{}\n",
      "执行工具调用\n",
      "工具调用名称：get_weather\n",
      "工具调用参数：{\"city\": \"杭州\"}\n"
     ]
    }
   ],
   "source": [
    "while tool_calls:\n",
    "    print(\"执行工具调用\")\n",
    "    print(f\"工具调用名称：{tool_calls[0].function.name}\")\n",
    "    print(f\"工具调用参数：{tool_calls[0].function.arguments}\")\n",
    "    # 执行工具函数\n",
    "    tool_name = tool_calls[0].function.name\n",
    "    tool_args = tool_calls[0].function.arguments\n",
    "    if tool_args:\n",
    "        tool_args = json.loads(tool_args)\n",
    "        tool_result = functions[tool_name](**tool_args) \n",
    "    else:\n",
    "        tool_result = functions[tool_name]()\n",
    "    # 注意：模型返回的需要tool调用信息也需要添加到messages中\n",
    "    messages.append(res.choices[0].message) \n",
    "    messages.append({\"role\": \"tool\", \"content\": tool_result, \"tool_call_id\": tool_calls[0].id})\n",
    "    res = client.chat.completions.create(\n",
    "        model = \"qwen-max\",\n",
    "        messages=messages,\n",
    "        tools=tools,\n",
    "        # parallel_tool_calls=True\n",
    "    )\n",
    "    tool_calls = res.choices[0].message.tool_calls"
   ]
  },
  {
   "cell_type": "code",
   "execution_count": 8,
   "metadata": {},
   "outputs": [
    {
     "name": "stdout",
     "output_type": "stream",
     "text": [
      "当前的时间是2025年8月21日下午16：17，而杭州现在的天气是晴天，温度为30°。\n"
     ]
    }
   ],
   "source": [
    "## 当不需要工具调用时，直接数据结果即可\n",
    "print(res.choices[0].message.content)"
   ]
  }
 ],
 "metadata": {
  "kernelspec": {
   "display_name": "llm",
   "language": "python",
   "name": "python3"
  },
  "language_info": {
   "codemirror_mode": {
    "name": "ipython",
    "version": 3
   },
   "file_extension": ".py",
   "mimetype": "text/x-python",
   "name": "python",
   "nbconvert_exporter": "python",
   "pygments_lexer": "ipython3",
   "version": "3.11.11"
  }
 },
 "nbformat": 4,
 "nbformat_minor": 2
}
